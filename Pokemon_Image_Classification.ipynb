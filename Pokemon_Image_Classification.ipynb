{
  "nbformat": 4,
  "nbformat_minor": 0,
  "metadata": {
    "colab": {
      "provenance": []
    },
    "kernelspec": {
      "name": "python3",
      "display_name": "Python 3"
    },
    "language_info": {
      "name": "python"
    }
  },
  "cells": [
    {
      "cell_type": "code",
      "source": [
        "from google.colab import drive\n",
        "drive.mount('/content/drive')"
      ],
      "metadata": {
        "colab": {
          "base_uri": "https://localhost:8080/"
        },
        "id": "iwoJtVI3oeWV",
        "outputId": "346a84e9-d1d0-4bb3-c180-cfea8048dced"
      },
      "execution_count": 1,
      "outputs": [
        {
          "output_type": "stream",
          "name": "stdout",
          "text": [
            "Drive already mounted at /content/drive; to attempt to forcibly remount, call drive.mount(\"/content/drive\", force_remount=True).\n"
          ]
        }
      ]
    },
    {
      "cell_type": "code",
      "execution_count": 2,
      "metadata": {
        "id": "idGKmD-FE08R"
      },
      "outputs": [],
      "source": [
        "import numpy as np\n",
        "import pandas as pd\n",
        "import matplotlib.pyplot as plt\n",
        "import os"
      ]
    },
    {
      "cell_type": "code",
      "source": [
        "classes = os.listdir(\"/content/drive/MyDrive/DLDataset/Pokemon Dataset/Train\")\n",
        "classes"
      ],
      "metadata": {
        "colab": {
          "base_uri": "https://localhost:8080/"
        },
        "id": "ataV3YQBFsED",
        "outputId": "71d7cdac-8023-4cd7-dbe6-31ea1d6e5381"
      },
      "execution_count": 3,
      "outputs": [
        {
          "output_type": "execute_result",
          "data": {
            "text/plain": [
              "['Bulbasaur', 'Pikachu', 'Charmander']"
            ]
          },
          "metadata": {},
          "execution_count": 3
        }
      ]
    },
    {
      "cell_type": "code",
      "source": [
        "print(\"Training Data: \")\n",
        "for f in classes:\n",
        "  path = \"/content/drive/MyDrive/DLDataset/Pokemon Dataset/Train/\" + f\n",
        "  print(f\"{f}: {len(os.listdir(path))}\")"
      ],
      "metadata": {
        "colab": {
          "base_uri": "https://localhost:8080/"
        },
        "id": "0u2lrjQRI2o9",
        "outputId": "7761d139-2bf0-4ecf-daa8-aa0bcecb1a7f"
      },
      "execution_count": 4,
      "outputs": [
        {
          "output_type": "stream",
          "name": "stdout",
          "text": [
            "Training Data: \n",
            "Bulbasaur: 101\n",
            "Pikachu: 101\n",
            "Charmander: 102\n"
          ]
        }
      ]
    },
    {
      "cell_type": "code",
      "source": [
        "print(\"Testing Data: \")\n",
        "for f in classes:\n",
        "  path = \"/content/drive/MyDrive/DLDataset/Pokemon Dataset/Test/\" + f\n",
        "  print(f\"{f}: {len(os.listdir(path))}\")"
      ],
      "metadata": {
        "colab": {
          "base_uri": "https://localhost:8080/"
        },
        "id": "qnkUI2meJZMR",
        "outputId": "38f6a4a4-9fab-411f-f0ee-dddbddd279d4"
      },
      "execution_count": 5,
      "outputs": [
        {
          "output_type": "stream",
          "name": "stdout",
          "text": [
            "Testing Data: \n",
            "Bulbasaur: 41\n",
            "Pikachu: 40\n",
            "Charmander: 42\n"
          ]
        }
      ]
    },
    {
      "cell_type": "markdown",
      "source": [
        "#### Data Preprocessing"
      ],
      "metadata": {
        "id": "kDJeOAx3zdv2"
      }
    },
    {
      "cell_type": "code",
      "source": [
        "train_data = [] # X\n",
        "train_labels = [] # y"
      ],
      "metadata": {
        "id": "s_yzu-k4KZop"
      },
      "execution_count": 6,
      "outputs": []
    },
    {
      "cell_type": "code",
      "source": [
        "!pip install keras-preprocessing"
      ],
      "metadata": {
        "colab": {
          "base_uri": "https://localhost:8080/"
        },
        "id": "9zW1KACupn8Y",
        "outputId": "6f699aee-3ae4-4ad0-c795-31114cbd4074"
      },
      "execution_count": 7,
      "outputs": [
        {
          "output_type": "stream",
          "name": "stdout",
          "text": [
            "Collecting keras-preprocessing\n",
            "  Downloading Keras_Preprocessing-1.1.2-py2.py3-none-any.whl (42 kB)\n",
            "\u001b[?25l     \u001b[90m━━━━━━━━━━━━━━━━━━━━━━━━━━━━━━━━━━━━━━━━\u001b[0m \u001b[32m0.0/42.6 kB\u001b[0m \u001b[31m?\u001b[0m eta \u001b[36m-:--:--\u001b[0m\r\u001b[2K     \u001b[90m━━━━━━━━━━━━━━━━━━━━━━━━━━━━━━━━━━━━━━━━\u001b[0m \u001b[32m42.6/42.6 kB\u001b[0m \u001b[31m2.0 MB/s\u001b[0m eta \u001b[36m0:00:00\u001b[0m\n",
            "\u001b[?25hRequirement already satisfied: numpy>=1.9.1 in /usr/local/lib/python3.10/dist-packages (from keras-preprocessing) (1.25.2)\n",
            "Requirement already satisfied: six>=1.9.0 in /usr/local/lib/python3.10/dist-packages (from keras-preprocessing) (1.16.0)\n",
            "Installing collected packages: keras-preprocessing\n",
            "Successfully installed keras-preprocessing-1.1.2\n"
          ]
        }
      ]
    },
    {
      "cell_type": "code",
      "source": [
        "import tensorflow as tf\n",
        "from tensorflow import keras\n",
        "from keras_preprocessing import image"
      ],
      "metadata": {
        "id": "mgKxdYxkpCbo"
      },
      "execution_count": 8,
      "outputs": []
    },
    {
      "cell_type": "code",
      "source": [
        "for category in classes:\n",
        "  folder = f\"/content/drive/MyDrive/DLDataset/Pokemon Dataset/Train/{category}\"\n",
        "  for img_name in os.listdir(folder):\n",
        "    img_path = f\"{folder}/{img_name}\"\n",
        "\n",
        "    img = image.load_img(img_path, target_size=(100, 100))\n",
        "    img = image.img_to_array(img)\n",
        "\n",
        "    train_data.append(img)\n",
        "    train_labels.append(category)"
      ],
      "metadata": {
        "colab": {
          "base_uri": "https://localhost:8080/"
        },
        "id": "zvoD9pAsqnMH",
        "outputId": "5c57dc42-ff65-4de0-dea1-9a9b0a841d6b"
      },
      "execution_count": 9,
      "outputs": [
        {
          "output_type": "stream",
          "name": "stderr",
          "text": [
            "/usr/local/lib/python3.10/dist-packages/PIL/Image.py:996: UserWarning: Palette images with Transparency expressed in bytes should be converted to RGBA images\n",
            "  warnings.warn(\n"
          ]
        }
      ]
    },
    {
      "cell_type": "code",
      "source": [
        "len(train_data)"
      ],
      "metadata": {
        "colab": {
          "base_uri": "https://localhost:8080/"
        },
        "id": "VKYEhxjOqMmE",
        "outputId": "478f0e5c-e1a8-40d5-f5d4-e0d9a4659b02"
      },
      "execution_count": 10,
      "outputs": [
        {
          "output_type": "execute_result",
          "data": {
            "text/plain": [
              "304"
            ]
          },
          "metadata": {},
          "execution_count": 10
        }
      ]
    },
    {
      "cell_type": "code",
      "source": [
        "len(train_labels)"
      ],
      "metadata": {
        "colab": {
          "base_uri": "https://localhost:8080/"
        },
        "id": "LndXTcHSrtnn",
        "outputId": "07ef9f06-2a19-4a5d-91cf-0c6193f46bd8"
      },
      "execution_count": 11,
      "outputs": [
        {
          "output_type": "execute_result",
          "data": {
            "text/plain": [
              "304"
            ]
          },
          "metadata": {},
          "execution_count": 11
        }
      ]
    },
    {
      "cell_type": "code",
      "source": [
        "train_data = np.array(train_data)\n",
        "train_labels = np.array(train_labels)"
      ],
      "metadata": {
        "id": "FLY1DlDzr3gH"
      },
      "execution_count": 12,
      "outputs": []
    },
    {
      "cell_type": "code",
      "source": [
        "train_data.shape"
      ],
      "metadata": {
        "colab": {
          "base_uri": "https://localhost:8080/"
        },
        "id": "vJeNUqPLsOFn",
        "outputId": "61bd3f11-0ff3-4b0b-b5b6-bc3008c0d326"
      },
      "execution_count": 13,
      "outputs": [
        {
          "output_type": "execute_result",
          "data": {
            "text/plain": [
              "(304, 100, 100, 3)"
            ]
          },
          "metadata": {},
          "execution_count": 13
        }
      ]
    },
    {
      "cell_type": "code",
      "source": [
        "train_labels.shape"
      ],
      "metadata": {
        "colab": {
          "base_uri": "https://localhost:8080/"
        },
        "id": "4XJXyMYZsSrJ",
        "outputId": "b71a0ff5-4ebc-47c3-b2e4-abb63958e11d"
      },
      "execution_count": 14,
      "outputs": [
        {
          "output_type": "execute_result",
          "data": {
            "text/plain": [
              "(304,)"
            ]
          },
          "metadata": {},
          "execution_count": 14
        }
      ]
    },
    {
      "cell_type": "code",
      "source": [
        "train_data = train_data.reshape(len(train_data), 30000)\n",
        "train_data.shape"
      ],
      "metadata": {
        "colab": {
          "base_uri": "https://localhost:8080/"
        },
        "id": "hDqt8xrIsWFh",
        "outputId": "61682b24-3f33-4613-b9c1-595cf372e4a9"
      },
      "execution_count": 15,
      "outputs": [
        {
          "output_type": "execute_result",
          "data": {
            "text/plain": [
              "(304, 30000)"
            ]
          },
          "metadata": {},
          "execution_count": 15
        }
      ]
    },
    {
      "cell_type": "code",
      "source": [
        "category_to_label = {\"Pikachu\": 0, \"Charmander\": 1, \"Bulbasaur\": 2}\n",
        "label_to_category = {0: \"Pikachu\", 1: \"Charmander\", 2: \"Bulbasaur\"}"
      ],
      "metadata": {
        "id": "Pf70Qj_Lssyu"
      },
      "execution_count": 16,
      "outputs": []
    },
    {
      "cell_type": "code",
      "source": [
        "train_labels = np.array([category_to_label[train_label] for train_label in train_labels])"
      ],
      "metadata": {
        "id": "V0jcmF9IvIM8"
      },
      "execution_count": 17,
      "outputs": []
    },
    {
      "cell_type": "code",
      "source": [
        "train_labels.shape"
      ],
      "metadata": {
        "colab": {
          "base_uri": "https://localhost:8080/"
        },
        "id": "AVYzzE6xvslT",
        "outputId": "1e35c80c-2f59-45bb-9ec4-9d37e71de7ed"
      },
      "execution_count": 18,
      "outputs": [
        {
          "output_type": "execute_result",
          "data": {
            "text/plain": [
              "(304,)"
            ]
          },
          "metadata": {},
          "execution_count": 18
        }
      ]
    },
    {
      "cell_type": "code",
      "source": [
        "from keras.utils import to_categorical"
      ],
      "metadata": {
        "id": "wo0I_7f3vuWa"
      },
      "execution_count": 19,
      "outputs": []
    },
    {
      "cell_type": "code",
      "source": [
        "train_labels = to_categorical(train_labels)"
      ],
      "metadata": {
        "id": "LdMXFLrWwKlI"
      },
      "execution_count": 20,
      "outputs": []
    },
    {
      "cell_type": "code",
      "source": [
        "train_labels.shape"
      ],
      "metadata": {
        "colab": {
          "base_uri": "https://localhost:8080/"
        },
        "id": "-9JSOl4wwThX",
        "outputId": "658a9d72-3453-4d77-ef5c-42d8deaa9a10"
      },
      "execution_count": 21,
      "outputs": [
        {
          "output_type": "execute_result",
          "data": {
            "text/plain": [
              "(304, 3)"
            ]
          },
          "metadata": {},
          "execution_count": 21
        }
      ]
    },
    {
      "cell_type": "code",
      "source": [
        "train_labels[:5]"
      ],
      "metadata": {
        "colab": {
          "base_uri": "https://localhost:8080/"
        },
        "id": "wAbjQ3-a0L5c",
        "outputId": "9abccd09-b1e5-45ae-c882-3222cba91043"
      },
      "execution_count": 22,
      "outputs": [
        {
          "output_type": "execute_result",
          "data": {
            "text/plain": [
              "array([[0., 0., 1.],\n",
              "       [0., 0., 1.],\n",
              "       [0., 0., 1.],\n",
              "       [0., 0., 1.],\n",
              "       [0., 0., 1.]], dtype=float32)"
            ]
          },
          "metadata": {},
          "execution_count": 22
        }
      ]
    },
    {
      "cell_type": "markdown",
      "source": [
        "#### Model Architecture"
      ],
      "metadata": {
        "id": "bwNeITor1TeW"
      }
    },
    {
      "cell_type": "code",
      "source": [
        "from keras.layers import Dense\n",
        "from keras import Sequential"
      ],
      "metadata": {
        "id": "BNk2kxV-0O5B"
      },
      "execution_count": 23,
      "outputs": []
    },
    {
      "cell_type": "code",
      "source": [
        "features = train_data.shape[1]"
      ],
      "metadata": {
        "id": "IDrC99uc1wAt"
      },
      "execution_count": 24,
      "outputs": []
    },
    {
      "cell_type": "code",
      "source": [
        "model = Sequential()\n",
        "\n",
        "model.add(Dense(units=512, activation=\"relu\", input_shape=(features,)))\n",
        "model.add(Dense(units=256, activation=\"relu\"))\n",
        "model.add(Dense(units=128, activation=\"relu\"))\n",
        "model.add(Dense(units=64, activation=\"relu\"))\n",
        "model.add(Dense(units=3, activation=\"softmax\"))\n",
        "\n",
        "model.compile(optimizer=\"adam\", loss=\"categorical_crossentropy\", metrics=[\"accuracy\"])"
      ],
      "metadata": {
        "id": "PUivMdE31bfm"
      },
      "execution_count": 25,
      "outputs": []
    },
    {
      "cell_type": "code",
      "source": [
        "model.summary()"
      ],
      "metadata": {
        "id": "87wiF-Se2hFB",
        "outputId": "38ad7a7e-3e1f-4b76-cdad-4af94c47723f",
        "colab": {
          "base_uri": "https://localhost:8080/"
        }
      },
      "execution_count": 26,
      "outputs": [
        {
          "output_type": "stream",
          "name": "stdout",
          "text": [
            "Model: \"sequential\"\n",
            "_________________________________________________________________\n",
            " Layer (type)                Output Shape              Param #   \n",
            "=================================================================\n",
            " dense (Dense)               (None, 512)               15360512  \n",
            "                                                                 \n",
            " dense_1 (Dense)             (None, 256)               131328    \n",
            "                                                                 \n",
            " dense_2 (Dense)             (None, 128)               32896     \n",
            "                                                                 \n",
            " dense_3 (Dense)             (None, 64)                8256      \n",
            "                                                                 \n",
            " dense_4 (Dense)             (None, 3)                 195       \n",
            "                                                                 \n",
            "=================================================================\n",
            "Total params: 15533187 (59.25 MB)\n",
            "Trainable params: 15533187 (59.25 MB)\n",
            "Non-trainable params: 0 (0.00 Byte)\n",
            "_________________________________________________________________\n"
          ]
        }
      ]
    },
    {
      "cell_type": "markdown",
      "source": [
        "#### Model Training"
      ],
      "metadata": {
        "id": "KKAzZQ9xudXZ"
      }
    },
    {
      "cell_type": "code",
      "source": [
        "model.fit(train_data, train_labels, batch_size=32, epochs=50)"
      ],
      "metadata": {
        "id": "Z08PxFGU2jYa",
        "colab": {
          "base_uri": "https://localhost:8080/"
        },
        "outputId": "7ffd39b7-2e4d-4c06-b678-96cb63e5b29c"
      },
      "execution_count": 27,
      "outputs": [
        {
          "output_type": "stream",
          "name": "stdout",
          "text": [
            "Epoch 1/50\n",
            "10/10 [==============================] - 4s 260ms/step - loss: 2712.8792 - accuracy: 0.3750\n",
            "Epoch 2/50\n",
            "10/10 [==============================] - 4s 382ms/step - loss: 808.8220 - accuracy: 0.4704\n",
            "Epoch 3/50\n",
            "10/10 [==============================] - 4s 355ms/step - loss: 720.3774 - accuracy: 0.5526\n",
            "Epoch 4/50\n",
            "10/10 [==============================] - 3s 257ms/step - loss: 170.7750 - accuracy: 0.7237\n",
            "Epoch 5/50\n",
            "10/10 [==============================] - 3s 260ms/step - loss: 211.3865 - accuracy: 0.7072\n",
            "Epoch 6/50\n",
            "10/10 [==============================] - 3s 259ms/step - loss: 223.8292 - accuracy: 0.7434\n",
            "Epoch 7/50\n",
            "10/10 [==============================] - 3s 351ms/step - loss: 52.7260 - accuracy: 0.8388\n",
            "Epoch 8/50\n",
            "10/10 [==============================] - 4s 368ms/step - loss: 131.1198 - accuracy: 0.7697\n",
            "Epoch 9/50\n",
            "10/10 [==============================] - 3s 259ms/step - loss: 100.7319 - accuracy: 0.8191\n",
            "Epoch 10/50\n",
            "10/10 [==============================] - 3s 262ms/step - loss: 73.6981 - accuracy: 0.8454\n",
            "Epoch 11/50\n",
            "10/10 [==============================] - 3s 259ms/step - loss: 91.1466 - accuracy: 0.8224\n",
            "Epoch 12/50\n",
            "10/10 [==============================] - 3s 331ms/step - loss: 129.6044 - accuracy: 0.8158\n",
            "Epoch 13/50\n",
            "10/10 [==============================] - 4s 396ms/step - loss: 41.7175 - accuracy: 0.8947\n",
            "Epoch 14/50\n",
            "10/10 [==============================] - 3s 259ms/step - loss: 29.7021 - accuracy: 0.9112\n",
            "Epoch 15/50\n",
            "10/10 [==============================] - 3s 261ms/step - loss: 17.3304 - accuracy: 0.9408\n",
            "Epoch 16/50\n",
            "10/10 [==============================] - 3s 260ms/step - loss: 20.3929 - accuracy: 0.9211\n",
            "Epoch 17/50\n",
            "10/10 [==============================] - 3s 317ms/step - loss: 7.8500 - accuracy: 0.9605\n",
            "Epoch 18/50\n",
            "10/10 [==============================] - 4s 420ms/step - loss: 15.2713 - accuracy: 0.9309\n",
            "Epoch 19/50\n",
            "10/10 [==============================] - 3s 261ms/step - loss: 64.5456 - accuracy: 0.8783\n",
            "Epoch 20/50\n",
            "10/10 [==============================] - 3s 258ms/step - loss: 14.3123 - accuracy: 0.9408\n",
            "Epoch 21/50\n",
            "10/10 [==============================] - 3s 260ms/step - loss: 4.4644 - accuracy: 0.9704\n",
            "Epoch 22/50\n",
            "10/10 [==============================] - 4s 379ms/step - loss: 0.8593 - accuracy: 0.9868\n",
            "Epoch 23/50\n",
            "10/10 [==============================] - 4s 419ms/step - loss: 2.9976 - accuracy: 0.9803\n",
            "Epoch 24/50\n",
            "10/10 [==============================] - 3s 322ms/step - loss: 18.2587 - accuracy: 0.9309\n",
            "Epoch 25/50\n",
            "10/10 [==============================] - 4s 396ms/step - loss: 25.2375 - accuracy: 0.9211\n",
            "Epoch 26/50\n",
            "10/10 [==============================] - 4s 408ms/step - loss: 26.4619 - accuracy: 0.9211\n",
            "Epoch 27/50\n",
            "10/10 [==============================] - 4s 417ms/step - loss: 5.2650 - accuracy: 0.9737\n",
            "Epoch 28/50\n",
            "10/10 [==============================] - 3s 328ms/step - loss: 2.1993 - accuracy: 0.9868\n",
            "Epoch 29/50\n",
            "10/10 [==============================] - 4s 429ms/step - loss: 1.6089 - accuracy: 0.9901\n",
            "Epoch 30/50\n",
            "10/10 [==============================] - 3s 290ms/step - loss: 6.1969 - accuracy: 0.9737\n",
            "Epoch 31/50\n",
            "10/10 [==============================] - 4s 417ms/step - loss: 31.0661 - accuracy: 0.9079\n",
            "Epoch 32/50\n",
            "10/10 [==============================] - 3s 269ms/step - loss: 12.8544 - accuracy: 0.9441\n",
            "Epoch 33/50\n",
            "10/10 [==============================] - 3s 265ms/step - loss: 7.8170 - accuracy: 0.9539\n",
            "Epoch 34/50\n",
            "10/10 [==============================] - 3s 266ms/step - loss: 17.2386 - accuracy: 0.9309\n",
            "Epoch 35/50\n",
            "10/10 [==============================] - 3s 278ms/step - loss: 26.4018 - accuracy: 0.9079\n",
            "Epoch 36/50\n",
            "10/10 [==============================] - 6s 568ms/step - loss: 34.2491 - accuracy: 0.9112\n",
            "Epoch 37/50\n",
            "10/10 [==============================] - 3s 265ms/step - loss: 50.4635 - accuracy: 0.8717\n",
            "Epoch 38/50\n",
            "10/10 [==============================] - 3s 264ms/step - loss: 25.4356 - accuracy: 0.9243\n",
            "Epoch 39/50\n",
            "10/10 [==============================] - 3s 268ms/step - loss: 12.3892 - accuracy: 0.9309\n",
            "Epoch 40/50\n",
            "10/10 [==============================] - 3s 327ms/step - loss: 25.5878 - accuracy: 0.9046\n",
            "Epoch 41/50\n",
            "10/10 [==============================] - 4s 423ms/step - loss: 29.7004 - accuracy: 0.8750\n",
            "Epoch 42/50\n",
            "10/10 [==============================] - 3s 264ms/step - loss: 13.3051 - accuracy: 0.9243\n",
            "Epoch 43/50\n",
            "10/10 [==============================] - 3s 266ms/step - loss: 29.3627 - accuracy: 0.9079\n",
            "Epoch 44/50\n",
            "10/10 [==============================] - 3s 265ms/step - loss: 96.3297 - accuracy: 0.8224\n",
            "Epoch 45/50\n",
            "10/10 [==============================] - 3s 308ms/step - loss: 42.9039 - accuracy: 0.9112\n",
            "Epoch 46/50\n",
            "10/10 [==============================] - 4s 415ms/step - loss: 4.1843 - accuracy: 0.9704\n",
            "Epoch 47/50\n",
            "10/10 [==============================] - 3s 268ms/step - loss: 3.5326 - accuracy: 0.9803\n",
            "Epoch 48/50\n",
            "10/10 [==============================] - 3s 265ms/step - loss: 51.8039 - accuracy: 0.8947\n",
            "Epoch 49/50\n",
            "10/10 [==============================] - 3s 266ms/step - loss: 38.5961 - accuracy: 0.9079\n",
            "Epoch 50/50\n",
            "10/10 [==============================] - 3s 315ms/step - loss: 18.7442 - accuracy: 0.9276\n"
          ]
        },
        {
          "output_type": "execute_result",
          "data": {
            "text/plain": [
              "<keras.src.callbacks.History at 0x7fd55a8819c0>"
            ]
          },
          "metadata": {},
          "execution_count": 27
        }
      ]
    },
    {
      "cell_type": "code",
      "source": [
        "test_data = []\n",
        "test_labels = []\n",
        "\n",
        "for category in classes:\n",
        "  folder = f\"/content/drive/MyDrive/DLDataset/Pokemon Dataset/Test/{category}\"\n",
        "  for img_name in os.listdir(folder):\n",
        "    img_path = f\"{folder}/{img_name}\"\n",
        "\n",
        "    img = image.load_img(img_path, target_size=(100, 100))\n",
        "    img = image.img_to_array(img)\n",
        "\n",
        "    test_data.append(img)\n",
        "    test_labels.append(category)"
      ],
      "metadata": {
        "id": "39ncgorzuLse"
      },
      "execution_count": 28,
      "outputs": []
    },
    {
      "cell_type": "code",
      "source": [
        "test_data = np.array(test_data)\n",
        "test_labels = np.array(test_labels)"
      ],
      "metadata": {
        "id": "PrYeH3HHvkUr"
      },
      "execution_count": 29,
      "outputs": []
    },
    {
      "cell_type": "code",
      "source": [
        "test_labels = np.array([category_to_label[label] for label in test_labels])\n",
        "test_labels = to_categorical(test_labels)"
      ],
      "metadata": {
        "id": "g2IPclYdvq_t"
      },
      "execution_count": 30,
      "outputs": []
    },
    {
      "cell_type": "code",
      "source": [
        "test_labels.shape"
      ],
      "metadata": {
        "colab": {
          "base_uri": "https://localhost:8080/"
        },
        "id": "q5QzK8VrwMu2",
        "outputId": "8a04692a-db14-4aa9-e3c7-9fd4fd2bd390"
      },
      "execution_count": 31,
      "outputs": [
        {
          "output_type": "execute_result",
          "data": {
            "text/plain": [
              "(123, 3)"
            ]
          },
          "metadata": {},
          "execution_count": 31
        }
      ]
    },
    {
      "cell_type": "code",
      "source": [
        "test_data = test_data.reshape(len(test_data), 30000)\n",
        "test_data.shape"
      ],
      "metadata": {
        "colab": {
          "base_uri": "https://localhost:8080/"
        },
        "id": "bV_F8f2SwWGv",
        "outputId": "a205d507-daf3-4759-92d6-56b11a67c27c"
      },
      "execution_count": 32,
      "outputs": [
        {
          "output_type": "execute_result",
          "data": {
            "text/plain": [
              "(123, 30000)"
            ]
          },
          "metadata": {},
          "execution_count": 32
        }
      ]
    },
    {
      "cell_type": "code",
      "source": [
        "model.evaluate(test_data, test_labels)"
      ],
      "metadata": {
        "colab": {
          "base_uri": "https://localhost:8080/"
        },
        "id": "_QL-2x9hwkhI",
        "outputId": "e7d9a5e4-ae76-43d0-daec-580f300624fe"
      },
      "execution_count": 33,
      "outputs": [
        {
          "output_type": "stream",
          "name": "stdout",
          "text": [
            "4/4 [==============================] - 0s 28ms/step - loss: 11.7952 - accuracy: 0.9187\n"
          ]
        },
        {
          "output_type": "execute_result",
          "data": {
            "text/plain": [
              "[11.795207977294922, 0.9186992049217224]"
            ]
          },
          "metadata": {},
          "execution_count": 33
        }
      ]
    },
    {
      "cell_type": "code",
      "source": [
        "pred = model.predict(test_data).argmax(axis=1)"
      ],
      "metadata": {
        "colab": {
          "base_uri": "https://localhost:8080/"
        },
        "id": "9PNGAxZnxC5r",
        "outputId": "00524cd6-c7ea-4dbe-b381-a96b7b3d031a"
      },
      "execution_count": 35,
      "outputs": [
        {
          "output_type": "stream",
          "name": "stdout",
          "text": [
            "4/4 [==============================] - 0s 73ms/step\n"
          ]
        }
      ]
    },
    {
      "cell_type": "code",
      "source": [
        "pred[:10]"
      ],
      "metadata": {
        "colab": {
          "base_uri": "https://localhost:8080/"
        },
        "id": "6Jv09FKpxa2U",
        "outputId": "7e3b3b7e-772b-4faa-a8a8-49d2a800b646"
      },
      "execution_count": 36,
      "outputs": [
        {
          "output_type": "execute_result",
          "data": {
            "text/plain": [
              "array([2, 0, 2, 2, 2, 2, 2, 2, 2, 2])"
            ]
          },
          "metadata": {},
          "execution_count": 36
        }
      ]
    },
    {
      "cell_type": "code",
      "source": [
        "pred_label = [label_to_category[p] for p in pred]"
      ],
      "metadata": {
        "id": "YYff82SxxdfK"
      },
      "execution_count": 39,
      "outputs": []
    },
    {
      "cell_type": "markdown",
      "source": [
        "#### Prediction for one image"
      ],
      "metadata": {
        "id": "hwmWjnlDx3JM"
      }
    },
    {
      "cell_type": "code",
      "source": [
        "test_single_image = \"/content/drive/MyDrive/DLDataset/Pokemon Dataset/Test/Bulbasaur/1100.jpg\"\n",
        "\n",
        "img = image.load_img(test_single_image, target_size = (100,100))\n",
        "img = image.img_to_array(img)\n",
        "\n",
        "img = img.reshape(1, 30000)"
      ],
      "metadata": {
        "id": "rAKnNOuKx0rx"
      },
      "execution_count": 42,
      "outputs": []
    },
    {
      "cell_type": "code",
      "source": [
        "pred = label_to_category[model.predict(img).argmax()]"
      ],
      "metadata": {
        "colab": {
          "base_uri": "https://localhost:8080/"
        },
        "id": "4f6GwZGryY_u",
        "outputId": "89f6dddc-eae8-4653-dbbb-5bed2f64c09f"
      },
      "execution_count": 43,
      "outputs": [
        {
          "output_type": "stream",
          "name": "stdout",
          "text": [
            "1/1 [==============================] - 0s 29ms/step\n"
          ]
        }
      ]
    },
    {
      "cell_type": "code",
      "source": [
        "pred"
      ],
      "metadata": {
        "colab": {
          "base_uri": "https://localhost:8080/",
          "height": 35
        },
        "id": "JVojpZAFy4jy",
        "outputId": "26f9ed37-be10-49e9-b5d4-a3f5a1d0bd17"
      },
      "execution_count": 44,
      "outputs": [
        {
          "output_type": "execute_result",
          "data": {
            "text/plain": [
              "'Bulbasaur'"
            ],
            "application/vnd.google.colaboratory.intrinsic+json": {
              "type": "string"
            }
          },
          "metadata": {},
          "execution_count": 44
        }
      ]
    }
  ]
}